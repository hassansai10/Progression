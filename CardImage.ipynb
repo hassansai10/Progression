{
 "cells": [
  {
   "cell_type": "code",
   "execution_count": 11,
   "id": "5e39f4d5-1101-4aa9-84a6-077d33044e3a",
   "metadata": {},
   "outputs": [],
   "source": [
    "import zipfile\n",
    "import os\n",
    "import pandas as pd\n",
    "import numpy as np\n",
    "import tensorflow as tf\n",
    "from tensorflow.keras.models import Sequential\n",
    "from tensorflow.keras.layers import Dense,Conv2D,MaxPooling2D,Flatten,Dropout\n",
    "from tensorflow.keras.preprocessing.image import ImageDataGenerator\n",
    "from PIL import Image"
   ]
  },
  {
   "cell_type": "code",
   "execution_count": 12,
   "id": "2925ebd6-238c-4aa8-ace6-16134bf076fe",
   "metadata": {},
   "outputs": [],
   "source": [
    "path = 'archive.zip'"
   ]
  },
  {
   "cell_type": "code",
   "execution_count": 13,
   "id": "a17b1280-848e-4aa3-bdf7-96b783746480",
   "metadata": {},
   "outputs": [],
   "source": [
    "with zipfile.ZipFile(path,'r') as zipfiles:\n",
    "    zipfiles.extractall('extracted_files')"
   ]
  },
  {
   "cell_type": "code",
   "execution_count": 14,
   "id": "7b41b8bb-c1bf-444d-a165-8009fc0cd7bc",
   "metadata": {},
   "outputs": [],
   "source": [
    "train_folder = os.path.join('extracted_files','train')"
   ]
  },
  {
   "cell_type": "code",
   "execution_count": 15,
   "id": "1e46895e-dbd5-45dc-ab48-4ca126968fa8",
   "metadata": {},
   "outputs": [
    {
     "name": "stdout",
     "output_type": "stream",
     "text": [
      "['ace of clubs', 'ace of diamonds', 'ace of hearts', 'ace of spades', 'eight of clubs', 'eight of diamonds', 'eight of hearts', 'eight of spades', 'five of clubs', 'five of diamonds', 'five of hearts', 'five of spades', 'four of clubs', 'four of diamonds', 'four of hearts', 'four of spades', 'jack of clubs', 'jack of diamonds', 'jack of hearts', 'jack of spades', 'joker', 'king of clubs', 'king of diamonds', 'king of hearts', 'king of spades', 'nine of clubs', 'nine of diamonds', 'nine of hearts', 'nine of spades', 'queen of clubs', 'queen of diamonds', 'queen of hearts', 'queen of spades', 'seven of clubs', 'seven of diamonds', 'seven of hearts', 'seven of spades', 'six of clubs', 'six of diamonds', 'six of hearts', 'six of spades', 'ten of clubs', 'ten of diamonds', 'ten of hearts', 'ten of spades', 'three of clubs', 'three of diamonds', 'three of hearts', 'three of spades', 'two of clubs', 'two of diamonds', 'two of hearts', 'two of spades']\n"
     ]
    }
   ],
   "source": [
    "train_sub = os.listdir(train_folder)\n",
    "print (train_sub)"
   ]
  },
  {
   "cell_type": "code",
   "execution_count": 16,
   "id": "9fdcb945-a4f6-4c71-9fdf-1b1a667e752e",
   "metadata": {},
   "outputs": [],
   "source": [
    "data = pd.read_csv('cards.csv')"
   ]
  },
  {
   "cell_type": "code",
   "execution_count": 17,
   "id": "04d76377-f667-4739-8ffa-3516dfe98014",
   "metadata": {},
   "outputs": [],
   "source": [
    "data = data.drop(columns=['filepaths','data set'])"
   ]
  },
  {
   "cell_type": "code",
   "execution_count": 18,
   "id": "70299386-c42d-4d7d-b409-0b6efde69882",
   "metadata": {},
   "outputs": [
    {
     "name": "stdout",
     "output_type": "stream",
     "text": [
      "   class index        labels card type\n",
      "0            0  ace of clubs       ace\n",
      "1            0  ace of clubs       ace\n",
      "2            0  ace of clubs       ace\n",
      "3            0  ace of clubs       ace\n",
      "4            0  ace of clubs       ace\n"
     ]
    }
   ],
   "source": [
    "print (data.head(5))"
   ]
  },
  {
   "cell_type": "code",
   "execution_count": 19,
   "id": "353b5973-ed6b-41ce-a3e4-8e21ac53ae23",
   "metadata": {},
   "outputs": [],
   "source": [
    "data_generator = ImageDataGenerator(rescale=1./255,validation_split=0.2)"
   ]
  },
  {
   "cell_type": "code",
   "execution_count": 20,
   "id": "bf411060-5629-45f3-8f8f-974d2c0c09a9",
   "metadata": {},
   "outputs": [
    {
     "name": "stdout",
     "output_type": "stream",
     "text": [
      "Found 6121 images belonging to 53 classes.\n",
      "Found 1503 images belonging to 53 classes.\n"
     ]
    }
   ],
   "source": [
    "train_image_generator = data_generator.flow_from_directory(train_folder,target_size=(200,200),batch_size=4,class_mode = 'categorical',subset='training')\n",
    "validation_image_generator = data_generator.flow_from_directory(train_folder,target_size=(200,200),batch_size=4,class_mode = 'categorical',subset = 'validation')"
   ]
  },
  {
   "cell_type": "code",
   "execution_count": 29,
   "id": "a6af1a04-25a0-4c85-820a-3a96dae1ee82",
   "metadata": {},
   "outputs": [],
   "source": [
    "model = Sequential([Conv2D(32,(3,3),activation='relu',input_shape=(200,200,3)),\n",
    "                    MaxPooling2D(2,2),\n",
    "                    Dropout(0.075),\n",
    "                   Conv2D(64,(3,3),activation='relu'),\n",
    "                   MaxPooling2D((2,2)),\n",
    "                    Dropout(0.075),\n",
    "                   Conv2D(128,(3,3),activation='relu'),\n",
    "                   MaxPooling2D((2,2)),\n",
    "                    Dropout(0.075),\n",
    "                   Conv2D(256,(3,3),activation='relu'),\n",
    "                   MaxPooling2D((2,2)),\n",
    "                    Dropout(0.075),\n",
    "                   Flatten(),\n",
    "                   Dense(512,activation='relu'),\n",
    "                    Dropout(0.25),\n",
    "                    Dense(train_image_generator.num_classes,activation='softmax')])"
   ]
  },
  {
   "cell_type": "code",
   "execution_count": 30,
   "id": "2c847880-bdfb-4921-b4e8-7b7b2a6272e9",
   "metadata": {},
   "outputs": [],
   "source": [
    "model.compile(optimizer='adam',loss = 'categorical_crossentropy',metrics = ['accuracy'])"
   ]
  },
  {
   "cell_type": "code",
   "execution_count": 31,
   "id": "9f9876d9-f64c-4ad0-9223-dee1713854f5",
   "metadata": {},
   "outputs": [
    {
     "name": "stdout",
     "output_type": "stream",
     "text": [
      "Model: \"sequential_2\"\n",
      "_________________________________________________________________\n",
      " Layer (type)                Output Shape              Param #   \n",
      "=================================================================\n",
      " conv2d_8 (Conv2D)           (None, 198, 198, 32)      896       \n",
      "                                                                 \n",
      " max_pooling2d_8 (MaxPooling  (None, 99, 99, 32)       0         \n",
      " 2D)                                                             \n",
      "                                                                 \n",
      " dropout_10 (Dropout)        (None, 99, 99, 32)        0         \n",
      "                                                                 \n",
      " conv2d_9 (Conv2D)           (None, 97, 97, 64)        18496     \n",
      "                                                                 \n",
      " max_pooling2d_9 (MaxPooling  (None, 48, 48, 64)       0         \n",
      " 2D)                                                             \n",
      "                                                                 \n",
      " dropout_11 (Dropout)        (None, 48, 48, 64)        0         \n",
      "                                                                 \n",
      " conv2d_10 (Conv2D)          (None, 46, 46, 128)       73856     \n",
      "                                                                 \n",
      " max_pooling2d_10 (MaxPoolin  (None, 23, 23, 128)      0         \n",
      " g2D)                                                            \n",
      "                                                                 \n",
      " dropout_12 (Dropout)        (None, 23, 23, 128)       0         \n",
      "                                                                 \n",
      " conv2d_11 (Conv2D)          (None, 21, 21, 256)       295168    \n",
      "                                                                 \n",
      " max_pooling2d_11 (MaxPoolin  (None, 10, 10, 256)      0         \n",
      " g2D)                                                            \n",
      "                                                                 \n",
      " dropout_13 (Dropout)        (None, 10, 10, 256)       0         \n",
      "                                                                 \n",
      " flatten_2 (Flatten)         (None, 25600)             0         \n",
      "                                                                 \n",
      " dense_4 (Dense)             (None, 512)               13107712  \n",
      "                                                                 \n",
      " dropout_14 (Dropout)        (None, 512)               0         \n",
      "                                                                 \n",
      " dense_5 (Dense)             (None, 53)                27189     \n",
      "                                                                 \n",
      "=================================================================\n",
      "Total params: 13,523,317\n",
      "Trainable params: 13,523,317\n",
      "Non-trainable params: 0\n",
      "_________________________________________________________________\n"
     ]
    }
   ],
   "source": [
    "model.summary()"
   ]
  },
  {
   "cell_type": "code",
   "execution_count": 32,
   "id": "52993b13-ec1f-47cd-bf61-c7e917e7a435",
   "metadata": {},
   "outputs": [
    {
     "name": "stdout",
     "output_type": "stream",
     "text": [
      "Epoch 1/5\n",
      "1530/1530 [==============================] - 24s 15ms/step - loss: 3.7752 - accuracy: 0.0562 - val_loss: 2.5559 - val_accuracy: 0.3047\n",
      "Epoch 2/5\n",
      "1530/1530 [==============================] - 23s 15ms/step - loss: 2.2692 - accuracy: 0.3874 - val_loss: 1.6318 - val_accuracy: 0.5753\n",
      "Epoch 3/5\n",
      "1530/1530 [==============================] - 22s 15ms/step - loss: 1.5640 - accuracy: 0.5772 - val_loss: 1.1469 - val_accuracy: 0.6933\n",
      "Epoch 4/5\n",
      "1530/1530 [==============================] - 23s 15ms/step - loss: 1.1764 - accuracy: 0.6711 - val_loss: 1.0855 - val_accuracy: 0.7267\n",
      "Epoch 5/5\n",
      "1530/1530 [==============================] - 23s 15ms/step - loss: 0.8781 - accuracy: 0.7510 - val_loss: 1.1494 - val_accuracy: 0.7393\n"
     ]
    },
    {
     "data": {
      "text/plain": [
       "<keras.callbacks.History at 0x1779c7e3eb0>"
      ]
     },
     "execution_count": 32,
     "metadata": {},
     "output_type": "execute_result"
    }
   ],
   "source": [
    "model.fit(train_image_generator,steps_per_epoch=train_image_generator.samples // train_image_generator.batch_size,\n",
    "         epochs = 5,\n",
    "         validation_data = validation_image_generator,\n",
    "          validation_steps=validation_image_generator.samples // validation_image_generator.batch_size)"
   ]
  },
  {
   "cell_type": "code",
   "execution_count": null,
   "id": "fbb8c2d2-09ba-401d-a864-7e959535e571",
   "metadata": {},
   "outputs": [],
   "source": []
  }
 ],
 "metadata": {
  "kernelspec": {
   "display_name": "Python 3 (ipykernel)",
   "language": "python",
   "name": "python3"
  },
  "language_info": {
   "codemirror_mode": {
    "name": "ipython",
    "version": 3
   },
   "file_extension": ".py",
   "mimetype": "text/x-python",
   "name": "python",
   "nbconvert_exporter": "python",
   "pygments_lexer": "ipython3",
   "version": "3.8.19"
  }
 },
 "nbformat": 4,
 "nbformat_minor": 5
}
